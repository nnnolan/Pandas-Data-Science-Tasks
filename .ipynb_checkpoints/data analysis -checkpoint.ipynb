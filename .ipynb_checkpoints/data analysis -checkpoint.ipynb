{
 "cells": [
  {
   "cell_type": "code",
   "execution_count": 7,
   "id": "07776555",
   "metadata": {},
   "outputs": [],
   "source": [
    "import pandas as pd\n",
    "import os"
   ]
  },
  {
   "cell_type": "markdown",
   "id": "c49e0bc5",
   "metadata": {},
   "source": [
    "Task #1: Merge the 12 months of sales data into a single CSV file."
   ]
  },
  {
   "cell_type": "code",
   "execution_count": 20,
   "id": "8a386967",
   "metadata": {
    "scrolled": true
   },
   "outputs": [
    {
     "ename": "SyntaxError",
     "evalue": "EOL while scanning string literal (Temp/ipykernel_23140/1761902824.py, line 8)",
     "output_type": "error",
     "traceback": [
      "\u001b[1;36m  File \u001b[1;32m\"C:\\Users\\Nolan\\AppData\\Local\\Temp/ipykernel_23140/1761902824.py\"\u001b[1;36m, line \u001b[1;32m8\u001b[0m\n\u001b[1;33m    df = pd.read_csv(r\"C:\\Users\\Nolan\\Documents\\GitHub\\Pandas-Data-Science-Tasks\\SalesAnalysis\\Sales_Data\\\"+file)\u001b[0m\n\u001b[1;37m                                                                                                                 ^\u001b[0m\n\u001b[1;31mSyntaxError\u001b[0m\u001b[1;31m:\u001b[0m EOL while scanning string literal\n"
     ]
    }
   ],
   "source": [
    "df = pd.read_csv(r\"C:\\Users\\Nolan\\Documents\\GitHub\\Pandas-Data-Science-Tasks\\SalesAnalysis\\Sales_Data\\Sales_April_2019.csv\")\n",
    "\n",
    "files = [file for file in os.listdir(r\"C:\\Users\\Nolan\\Documents\\GitHub\\Pandas-Data-Science-Tasks\\SalesAnalysis\\Sales_Data\")]\n",
    "\n",
    "all_months_data = pd.DataFrame() \n",
    "\n",
    "for file in files:\n",
    "    df = pd.read_csv(r\"C:\\\\Users\\\\Nolan\\\\Documents\\\\GitHub\\\\Pandas-Data-Science-Tasks\\\\SalesAnalysis\\\\Sales_Data\\\n",
    "    \"+file)\n",
    "    all_months_data = pd.concat([all_months_data_data, df])\n",
    "                     \n",
    "all_months_data.to_csv(\"all_data.csv\", index=False)"
   ]
  },
  {
   "cell_type": "code",
   "execution_count": null,
   "id": "2a8606b7",
   "metadata": {},
   "outputs": [],
   "source": []
  },
  {
   "cell_type": "code",
   "execution_count": null,
   "id": "e65ced79",
   "metadata": {},
   "outputs": [],
   "source": []
  },
  {
   "cell_type": "code",
   "execution_count": null,
   "id": "79cf6713",
   "metadata": {},
   "outputs": [],
   "source": []
  }
 ],
 "metadata": {
  "kernelspec": {
   "display_name": "Python 3 (ipykernel)",
   "language": "python",
   "name": "python3"
  },
  "language_info": {
   "codemirror_mode": {
    "name": "ipython",
    "version": 3
   },
   "file_extension": ".py",
   "mimetype": "text/x-python",
   "name": "python",
   "nbconvert_exporter": "python",
   "pygments_lexer": "ipython3",
   "version": "3.8.2"
  }
 },
 "nbformat": 4,
 "nbformat_minor": 5
}
